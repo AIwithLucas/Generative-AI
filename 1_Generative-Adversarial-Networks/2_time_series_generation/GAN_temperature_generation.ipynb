{
 "cells": [
  {
   "cell_type": "code",
   "execution_count": 8,
   "metadata": {},
   "outputs": [],
   "source": [
    "import torch\n",
    "import torch.nn as nn\n",
    "import torch.optim as optim\n",
    "import torchvision\n",
    "import torchvision.transforms as transforms\n",
    "from torch.utils.data import Dataset, DataLoader\n",
    "\n",
    "import matplotlib.pyplot as plt\n",
    "import numpy as np\n",
    "import pandas as pd"
   ]
  },
  {
   "cell_type": "markdown",
   "metadata": {},
   "source": [
    "## 1 Load Dataset\n"
   ]
  },
  {
   "cell_type": "code",
   "execution_count": 5,
   "metadata": {},
   "outputs": [
    {
     "data": {
      "text/html": [
       "<div>\n",
       "<style scoped>\n",
       "    .dataframe tbody tr th:only-of-type {\n",
       "        vertical-align: middle;\n",
       "    }\n",
       "\n",
       "    .dataframe tbody tr th {\n",
       "        vertical-align: top;\n",
       "    }\n",
       "\n",
       "    .dataframe thead th {\n",
       "        text-align: right;\n",
       "    }\n",
       "</style>\n",
       "<table border=\"1\" class=\"dataframe\">\n",
       "  <thead>\n",
       "    <tr style=\"text-align: right;\">\n",
       "      <th></th>\n",
       "      <th>Day</th>\n",
       "      <th>Temperature</th>\n",
       "    </tr>\n",
       "  </thead>\n",
       "  <tbody>\n",
       "    <tr>\n",
       "      <th>0</th>\n",
       "      <td>1</td>\n",
       "      <td>0.133553</td>\n",
       "    </tr>\n",
       "    <tr>\n",
       "      <th>1</th>\n",
       "      <td>2</td>\n",
       "      <td>0.061635</td>\n",
       "    </tr>\n",
       "    <tr>\n",
       "      <th>2</th>\n",
       "      <td>3</td>\n",
       "      <td>0.175963</td>\n",
       "    </tr>\n",
       "    <tr>\n",
       "      <th>3</th>\n",
       "      <td>4</td>\n",
       "      <td>0.302001</td>\n",
       "    </tr>\n",
       "    <tr>\n",
       "      <th>4</th>\n",
       "      <td>5</td>\n",
       "      <td>0.082970</td>\n",
       "    </tr>\n",
       "  </tbody>\n",
       "</table>\n",
       "</div>"
      ],
      "text/plain": [
       "   Day  Temperature\n",
       "0    1     0.133553\n",
       "1    2     0.061635\n",
       "2    3     0.175963\n",
       "3    4     0.302001\n",
       "4    5     0.082970"
      ]
     },
     "execution_count": 5,
     "metadata": {},
     "output_type": "execute_result"
    }
   ],
   "source": [
    "df = pd.read_csv('./data/temperature_data.csv')\n",
    "df.head()"
   ]
  },
  {
   "cell_type": "markdown",
   "metadata": {},
   "source": [
    "##### Goal of generation:\n",
    "\n",
    "- perhaps look at first 30 - 60 days of temperature data\n",
    "- then from pattern, generate for next n days, following timeseries forecasting prediction to generate\n",
    "- i.e not one-step prediction but range-prediction\n"
   ]
  },
  {
   "cell_type": "code",
   "execution_count": 6,
   "metadata": {},
   "outputs": [
    {
     "data": {
      "text/plain": [
       "Day            0\n",
       "Temperature    0\n",
       "dtype: int64"
      ]
     },
     "execution_count": 6,
     "metadata": {},
     "output_type": "execute_result"
    }
   ],
   "source": [
    "df.isna().sum()"
   ]
  },
  {
   "cell_type": "code",
   "execution_count": 7,
   "metadata": {},
   "outputs": [],
   "source": [
    "temp_data = df['Temperature'].values"
   ]
  },
  {
   "cell_type": "markdown",
   "metadata": {},
   "source": [
    "### 1.1 Data Preprocessing (Time-series)\n",
    "\n",
    "- specify custom dataset (prep time-series data for training)\n",
    "- efficient data handling\n",
    "- compatible with data loaders\n",
    "- customized preprocessing\n",
    "  - converting data to tensors\n",
    "\n",
    "### Usage steps of Custom Dataset class\n",
    "\n",
    "1. pass temperature data to custom dataset for sequence to be created\n",
    "2. create dataloader with help of custom dataset\n",
    "3. feed dataloader to model\n"
   ]
  },
  {
   "cell_type": "code",
   "execution_count": 17,
   "metadata": {},
   "outputs": [],
   "source": [
    "T = 30 # sequence length\n",
    "batch_size = 32 # No. of sequences to be trained per iteration\n",
    "\n",
    "# Dataset -> handling, managing data in structured way\n",
    "class TimeSeriesDataset(Dataset): \n",
    "    def __init__(self, data, sequence_length): # init custom dataset\n",
    "        self.data = data # to hold the temperature data\n",
    "        self.sequence_length = sequence_length # No. time steps to predict next value\n",
    "    \n",
    "    # return total No. of sequence that can be created, given no overlap\n",
    "    # eg: total data = 3, sequence length = 2, then we have 3 - 2 = 1 (1,2) or (2,3)\n",
    "    # +1 if overlap allowed\n",
    "    def __len__(self):  \n",
    "        return len(self.data) - self.sequence_length\n",
    "\n",
    "    # retrieve specific sequence & corresponding target value\n",
    "    # i is start idx\n",
    "    def __getitem__(self, i):\n",
    "        x = self.data[i: i+self.sequence_length] # sequence data\n",
    "        y = self.data[i+self.sequence_length] # target\n",
    "        \n",
    "        x = torch.tensor(x, dtype=torch.float32).unsqueeze(-1) # batch_size x sequence_length x input_dim\n",
    "        y = torch.tensor(y, dtype=torch.float32)\n",
    "\n",
    "        return x, y\n"
   ]
  },
  {
   "cell_type": "code",
   "execution_count": 18,
   "metadata": {},
   "outputs": [],
   "source": [
    "temp_dataset = TimeSeriesDataset(temp_data, T) # T = sequence_length\n",
    "temp_dataloader = DataLoader(temp_dataset, batch_size=batch_size, shuffle=False) # time-series should not shuffle data, order is impt"
   ]
  },
  {
   "cell_type": "code",
   "execution_count": null,
   "metadata": {},
   "outputs": [],
   "source": []
  }
 ],
 "metadata": {
  "kernelspec": {
   "display_name": "genAI-pytorch",
   "language": "python",
   "name": "python3"
  },
  "language_info": {
   "codemirror_mode": {
    "name": "ipython",
    "version": 3
   },
   "file_extension": ".py",
   "mimetype": "text/x-python",
   "name": "python",
   "nbconvert_exporter": "python",
   "pygments_lexer": "ipython3",
   "version": "3.9.21"
  }
 },
 "nbformat": 4,
 "nbformat_minor": 2
}
